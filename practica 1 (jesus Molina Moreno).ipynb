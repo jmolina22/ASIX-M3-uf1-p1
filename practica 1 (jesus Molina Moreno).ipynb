{
  "cells": [
    {
      "cell_type": "markdown",
      "id": "2e3d5b79-352b-4800-ae9d-822846a0ece1",
      "metadata": {
        "nbgrader": {
          "grade": false,
          "grade_id": "cell-bdd4d42f95339346",
          "locked": true,
          "schema_version": 3,
          "solution": false,
          "task": false
        },
        "tags": [],
        "id": "2e3d5b79-352b-4800-ae9d-822846a0ece1"
      },
      "source": [
        "# Pràctica 1 - IF, FOR, WHILE, LLISTES"
      ]
    },
    {
      "cell_type": "markdown",
      "id": "49922319-496c-4369-aaa1-86a71d43287e",
      "metadata": {
        "nbgrader": {
          "grade": false,
          "grade_id": "cell-008f62b8682bfb2b",
          "locked": true,
          "schema_version": 3,
          "solution": false,
          "task": false
        },
        "tags": [],
        "id": "49922319-496c-4369-aaa1-86a71d43287e"
      },
      "source": [
        "Desenvolupa un codi per a cada exercici. Per a entregar la pràctica, podeu adjuntar un fitxer amb tots els codis separats per a cada exercici o adjuntar un fitxer per a cada exercici per separat. Es recomana que realitzeu els exercicis de forma individual, preguntant en cas de dubte. **En cas que es detecti una copia, la pràctica té un 0 i, a més a més, l’alumne tindrà més dificultats a l’hora de realitzar l’examen ja que no haurà practicat suficient.**\n",
        "\n",
        "> Es valorarà l’ús d’estructures IF,FOR,WHILE i llistes per a agilitzar el codi i optimitzar-lo."
      ]
    },
    {
      "cell_type": "markdown",
      "id": "dddb4552-50af-4381-8f26-af6c2d898bd3",
      "metadata": {
        "nbgrader": {
          "grade": false,
          "grade_id": "cell-74a16bd849326bf6",
          "locked": true,
          "schema_version": 3,
          "solution": false,
          "task": false
        },
        "tags": [],
        "id": "dddb4552-50af-4381-8f26-af6c2d898bd3"
      },
      "source": [
        "## Exercici 1\n",
        "\n",
        "Crea una frase i transforma-la en una llista. Mostra la llista per pantalla. Després, mostra la seva llista al revés. En acabat, mostra la seva longitud."
      ]
    },
    {
      "cell_type": "code",
      "execution_count": 1,
      "id": "f080ea88-8029-43b2-86d4-3025735a1ce9",
      "metadata": {
        "nbgrader": {
          "grade": true,
          "grade_id": "cell-01b34421af65e869",
          "locked": true,
          "points": 1,
          "schema_version": 3,
          "solution": false,
          "task": false
        },
        "tags": [],
        "colab": {
          "base_uri": "https://localhost:8080/"
        },
        "id": "f080ea88-8029-43b2-86d4-3025735a1ce9",
        "outputId": "aec40868-bc6d-4c3c-91a8-c8c492332127"
      },
      "outputs": [
        {
          "output_type": "stream",
          "name": "stdout",
          "text": [
            "['hola', 'a', 'todo', 'el', 'mundo']\n"
          ]
        }
      ],
      "source": [
        "# La teva resposta aquí\n",
        "#Exercici 1 A\n",
        "lista=\"hola a todo el mundo\"\n",
        "\n",
        "lista=lista.split()\n",
        "print(lista)\n",
        "\n",
        "#FINAL\n",
        "\n",
        "#Exercici 1 B\n",
        "lista=\"hola a todo el mundo\"\n",
        "\n",
        "\n",
        "lista=lista.split()\n",
        "\n",
        "\n",
        "lista=lista[::-1]\n",
        "\n",
        "print(lista)\n",
        "#FINAL\n",
        "#Exercici 1 C\n",
        "\n",
        "lista=\"hola a todo el mundo\"\n",
        "\n",
        "\n",
        "lista=lista.split()\n",
        "\n",
        "\n",
        "lista=lista[::-1]\n",
        "\n",
        "lista=len(lista)\n",
        "\n",
        "print(lista)\n",
        "\n",
        "\n",
        "\n",
        "\n",
        "\n",
        "    "
      ]
    },
    {
      "cell_type": "markdown",
      "id": "df8b3a08-2277-42b5-bbf7-ba06e8da0183",
      "metadata": {
        "nbgrader": {
          "grade": false,
          "grade_id": "cell-8263e7e5ec48d93c",
          "locked": true,
          "schema_version": 3,
          "solution": false,
          "task": false
        },
        "tags": [],
        "id": "df8b3a08-2277-42b5-bbf7-ba06e8da0183"
      },
      "source": [
        "## Exercici 2\n",
        "\n",
        "Desenvolupa un programa que demani tres nombres a l’usuari i indiqui quin d’ells és més gran."
      ]
    },
    {
      "cell_type": "code",
      "execution_count": null,
      "id": "92bceb75-e717-45ff-9687-e6ea77b9bced",
      "metadata": {
        "id": "92bceb75-e717-45ff-9687-e6ea77b9bced"
      },
      "outputs": [],
      "source": [
        "# La teva resposta aquí\n",
        "\n",
        "\n",
        "a=int(input(\"Numero 1\"))\n",
        "b=int(input(\"Numero 2\"))\n",
        "c=int(input(\"Numero 3\"))\n",
        "\n",
        "if(a>b and a>c):\n",
        "    print(f\"{a} es el mas grande de los tres\")\n",
        "\n",
        "elif(b>a and b>c):\n",
        "    print(f\"{b} es el mas grande de los tres \")\n",
        "\n",
        "else: print(f\"{c} es el mas grande de los tres\")"
      ]
    },
    {
      "cell_type": "markdown",
      "id": "78fed00f-086c-46a5-b814-dcb358837cac",
      "metadata": {
        "id": "78fed00f-086c-46a5-b814-dcb358837cac"
      },
      "source": [
        "## Exercici 3\n",
        "\n",
        "Escriu un snippet que retorni les posicions imparells del següent array: vector = [3,6,2,9,7,4,5,7]. Ha de mostrar per pantalla 6, 9, 4, 7."
      ]
    },
    {
      "cell_type": "code",
      "execution_count": null,
      "id": "e0787212-1f81-4317-986a-dc937d03e6ab",
      "metadata": {
        "id": "e0787212-1f81-4317-986a-dc937d03e6ab"
      },
      "outputs": [],
      "source": [
        "# La teva resposta aquí\n",
        "\n",
        "\n",
        "\n",
        "vector=[3,6,2,9,7,4,5,7]\n",
        "\n",
        "\n",
        "print(vector[1:8:2])\n",
        "\n",
        "\n"
      ]
    },
    {
      "cell_type": "markdown",
      "id": "30b18b46-46f9-4574-bcd9-03fd929abf04",
      "metadata": {
        "id": "30b18b46-46f9-4574-bcd9-03fd929abf04"
      },
      "source": [
        "## Exercici 4\n",
        "\n",
        "Desenvolupa un programa que calculi la mitja de l’array (20,3,15,18)"
      ]
    },
    {
      "cell_type": "markdown",
      "id": "8e4019d0-551f-402b-ae85-de2664766593",
      "metadata": {
        "id": "8e4019d0-551f-402b-ae85-de2664766593"
      },
      "source": [
        "## Exercici 5\n",
        "Genera un codi vagi recorrent la frase: “En un lugar de la Mancha” fins que trobi la M. En acabat, ha de dir quantes lletres i espais hi ha fins la M."
      ]
    },
    {
      "cell_type": "code",
      "execution_count": null,
      "id": "4610e571-f48c-4b26-95a8-e09dc655c562",
      "metadata": {
        "id": "4610e571-f48c-4b26-95a8-e09dc655c562"
      },
      "outputs": [],
      "source": [
        "# La teva resposta aquí\n",
        "Frase=\"En un lugar de la Mancha\"\n",
        "\n",
        "espacios=0\n",
        "contador=0\n",
        "for i in Frase:\n",
        "    \n",
        "    \n",
        "     if(i!=\"M\"and i!=' '):\n",
        "        contador=contador+1\n",
        "        \n",
        "    \n",
        "     elif(i!=\"M\" and i==' '):\n",
        "      espacios=espacios+1\n",
        "\n",
        "     elif(i==\"M\"):\n",
        "      \n",
        "\n",
        "      print(f\"la has econtrado hay{contador} caracteres y {espacios} espacios \")\n",
        "\n",
        "\n",
        "\n",
        "\n"
      ]
    },
    {
      "cell_type": "markdown",
      "id": "d84b24b9-c73d-46f0-b5da-bb87aab394fa",
      "metadata": {
        "id": "d84b24b9-c73d-46f0-b5da-bb87aab394fa"
      },
      "source": [
        "## Exercici 6\n",
        "\n",
        "Modifica el següent codi per a que no es mostrin mai les “a”:\n",
        "\n",
        "```python\n",
        "frase = \"Soy el mas guay del paraguay\"\n",
        "for i in frase:\n",
        "    print(i)\n",
        "```"
      ]
    },
    {
      "cell_type": "code",
      "execution_count": null,
      "id": "33ed8a70-9cc4-4120-8428-d197c775a5de",
      "metadata": {
        "id": "33ed8a70-9cc4-4120-8428-d197c775a5de"
      },
      "outputs": [],
      "source": [
        "# La teva resposta aquí\n",
        "frase = \"Soy el mas guay del paraguay\"\n",
        "\n",
        "for i in frase:\n",
        " frase=frase.replace('a',' ')\n",
        "\n",
        "print(frase)\n",
        "\n"
      ]
    },
    {
      "cell_type": "markdown",
      "id": "032a8f7d-fc01-46fc-9302-f2db8ab08ec0",
      "metadata": {
        "id": "032a8f7d-fc01-46fc-9302-f2db8ab08ec0"
      },
      "source": [
        "## Exercici 7\n",
        "\n",
        "Escriu un programa que a cada component de l’array = [4,4,5,2,7,3] li sumi 3 utilitzant un bucle for. L’array ha de quedar array=[7,7,8,5,10,6]."
      ]
    },
    {
      "cell_type": "code",
      "execution_count": 3,
      "id": "60c02507-5508-4f4d-beb6-04c86a44f5f3",
      "metadata": {
        "colab": {
          "base_uri": "https://localhost:8080/"
        },
        "id": "60c02507-5508-4f4d-beb6-04c86a44f5f3",
        "outputId": "4e7e6ecc-4b6c-484e-d7d5-dee3abd5f684"
      },
      "outputs": [
        {
          "output_type": "stream",
          "name": "stdout",
          "text": [
            "7\n",
            "7\n",
            "8\n",
            "5\n",
            "10\n",
            "6\n"
          ]
        }
      ],
      "source": [
        "# La teva resposta aquí\n",
        "array=[4,4,5,2,7,3]\n",
        "arraydos=[]\n",
        "\n",
        "for i in array:\n",
        "\n",
        "    arraydos=i++3\n",
        "\n",
        "    print(arraydos)\n",
        "\n"
      ]
    },
    {
      "cell_type": "markdown",
      "id": "7ebce496-6ba2-4543-b63a-c392659df722",
      "metadata": {
        "id": "7ebce496-6ba2-4543-b63a-c392659df722"
      },
      "source": [
        "## Exercici 8\n",
        "\n",
        "Crea una “tragaperras” de tres nombres entre 0 i 5. S’indica a l’usuari quins nombres han sortit. Si coincideixen, un missatge ha de dir: “has guanyat” i sortir del programa. L’usuari pot fer el nombre de tirades que vulgui fins que digui “prou”. S’ha de mostrar el nombre de jugades fins a dir “prou”. S’ha de mostrar també el nombre de diners perduts. Cada tirada costa 1€ i guanyar dona 10€."
      ]
    },
    {
      "cell_type": "code",
      "execution_count": null,
      "id": "9056e741-e6a1-41a4-8cda-4b0833f55083",
      "metadata": {
        "id": "9056e741-e6a1-41a4-8cda-4b0833f55083"
      },
      "outputs": [],
      "source": [
        "# La teva resposta aquí\n",
        "import random\n",
        "\n",
        "perdido=0\n",
        "jugadas=0\n",
        "continuar=input(\"si no quieres seguir di prou \")\n",
        "\n",
        "while continuar==\"\":\n",
        " x=random.randrange(0,6)\n",
        " y=random.randrange(0,6)\n",
        " z=random.randrange(0,6) \n",
        " if(x!=y and x!=z and y!=z):\n",
        "      \n",
        "\n",
        "    \n",
        "      jugadas=jugadas+1\n",
        "\n",
        "      perdido=perdido-1\n",
        "\n",
        "    \n",
        "      print(f\"has perdido {perdido}, has hecho {jugadas} jugadas\")\n",
        "      print(\"el numero es \",x,y,z)\n",
        "      continuar=input(\"si no quieres seguir di prou\")\n",
        "    \n",
        "    \n",
        " elif(x==y and x==z and y==z):\n",
        "\n",
        "\n",
        "  print(\"has ganado 10 euros\")\n",
        "  break\n",
        " elif(continuar==\"prou\"):\n",
        "\n",
        "     print(\"se acabo el juego,has perdido{perdido} euros,y has hecho{jugadas}jugadas\")\n",
        "     break\n",
        "\n"
      ]
    },
    {
      "cell_type": "markdown",
      "id": "4404fb8c-54ca-4e1f-bdbd-80832e54218c",
      "metadata": {
        "id": "4404fb8c-54ca-4e1f-bdbd-80832e54218c"
      },
      "source": [
        "## Exercici 9\n",
        "Crea un codi que mostri per pantalla els elements imparells de la següent llista = [15,10,3,45,56,2,2,68,10,23] fins que s’arribi al 68."
      ]
    },
    {
      "cell_type": "code",
      "execution_count": null,
      "id": "21a365a1-55fd-4ad0-8d3a-04e2c6e91cab",
      "metadata": {
        "id": "21a365a1-55fd-4ad0-8d3a-04e2c6e91cab"
      },
      "outputs": [],
      "source": [
        "# La teva resposta aquí\n",
        "lista=[15,10,3,45,56,2,2,68,10,23]\n",
        "\n",
        "print(lista[1:8:2])\n",
        "\n",
        "\n"
      ]
    },
    {
      "cell_type": "markdown",
      "id": "43577719-4977-4aa9-92b7-60a2a8faf3b4",
      "metadata": {
        "id": "43577719-4977-4aa9-92b7-60a2a8faf3b4"
      },
      "source": [
        "## Exercici 10\n",
        "\n",
        "Crea el joc del penjat. Crea una paraula secreta de cinc lletres. S’ha d’anar mostrant per pantalla _ _ _ _ _ i substituint les _ a mesura que l’usuari vagi introduint lletres correctes. El programa acabarà després de 10 intents o si la paraula s’encerta."
      ]
    },
    {
      "cell_type": "code",
      "execution_count": null,
      "id": "c263e2b3-4f47-4df4-9572-f9359c8ff255",
      "metadata": {
        "id": "c263e2b3-4f47-4df4-9572-f9359c8ff255"
      },
      "outputs": [],
      "source": [
        "# La teva resposta aquí\n",
        "palabra={\"uno\":\"_\",\"dos\":\"_\", \"tres\":\"_\" ,\"cuatro\":\"_\",\"cinco\":\"_\"}\n",
        "pregunta=input(\"dime una letra\")\n",
        "secreta={\"uno\":\"a\",\"dos\":\"d\",\"tres\":\"i\",\"cuatro\":\"o\",\"cinco\":\"s\"}\n",
        "\n",
        "contador=0\n",
        "while contador<10:\n",
        "   if(pregunta==\"a\"):\n",
        "      palabra[\"uno\"]=\"a\"\n",
        "      contador=contador + 1\n",
        "      print(palabra.values())\n",
        "\n",
        "      pregunta=input(\"dime una letra\")\n",
        "\n",
        "   elif(pregunta==\"d\"):\n",
        "      palabra[\"dos\"]=\"d\"\n",
        "      contador=contador + 1\n",
        "      print(palabra.values())\n",
        "      pregunta=input(\"dime una letra\")\n",
        "   elif(pregunta==\"i\"):\n",
        "       palabra[\"tres\"]=\"i\"\n",
        "       contador=contador + 1\n",
        "    \n",
        "       print(palabra.values())\n",
        "       pregunta=input(\"dime una letra\")\n",
        "   elif(pregunta==\"o\"):\n",
        "      palabra[\"cuatro\"]=\"o\"\n",
        "      contador=contador + 1\n",
        "   \n",
        "      print(palabra.values())\n",
        "      pregunta=input(\"dime una letra\")\n",
        "   elif(pregunta==\"s\"):\n",
        "      palabra[\"cinco\"]=\"s\"\n",
        "      contador=contador + 1\n",
        "\n",
        "      print(palabra.values())\n",
        "      pregunta=input(\"dime una letra\")\n",
        "   elif(contador==10):\n",
        "\n",
        "      print(\"se acabaron los intentos\")\n",
        "      break\n",
        "\n",
        "   elif(pregunta!=\"adios\"):\n",
        "      contador=contador + 1\n",
        "\n",
        "      print(palabra.values())\n",
        "      \n",
        "      pregunta=input(\"dime una letra\")  \n",
        "\n",
        "\n"
      ]
    },
    {
      "cell_type": "markdown",
      "id": "13dba29e-1959-40f0-9991-295f76b528c7",
      "metadata": {
        "id": "13dba29e-1959-40f0-9991-295f76b528c7"
      },
      "source": [
        "## Exercici 11\n",
        "Crea un codi que obtingui 5 nombres aleatoris del 1 al 5 i els vagi guardant en una llista mitjançant un for. Només que un dels nombres sigui el 3, el for s’ha d’aturar i mostrar la llista amb els nombres que tingui."
      ]
    },
    {
      "cell_type": "code",
      "execution_count": null,
      "id": "fe5ffed3-1fa5-49bd-9c31-b36cd48324b5",
      "metadata": {
        "id": "fe5ffed3-1fa5-49bd-9c31-b36cd48324b5"
      },
      "outputs": [],
      "source": [
        "# La teva resposta aquí\n",
        "import random\n",
        "x=random.randint(1,5)\n",
        "lista=[]\n",
        "\n",
        "\n",
        "\n",
        "for i in range(1,6):\n",
        "  if (x!=3): \n",
        "   \n",
        "\n",
        "   lista.append(random.randint(1,5))\n",
        "\n",
        "   print(lista)\n",
        "  \n",
        " \n",
        "  \n",
        "  elif(x==3):\n",
        "    print()\n",
        "    break\n"
      ]
    },
    {
      "cell_type": "markdown",
      "id": "5ff3f60a-31b7-4a7a-b84b-82209a61f221",
      "metadata": {
        "id": "5ff3f60a-31b7-4a7a-b84b-82209a61f221"
      },
      "source": [
        "## Exercici 12\n",
        "\n",
        "Crear un programa que afegeixi números a una llista fins que introduïm un número negatiu. A continuació heu de crear una nova llista igual que l'anterior però eliminant els números duplicats. Mostra aquesta segona llista per comprovar que hem eliminat els duplicats."
      ]
    },
    {
      "cell_type": "code",
      "execution_count": null,
      "id": "ef7b55dd-554a-48f5-9da8-f209fcb39ed9",
      "metadata": {
        "id": "ef7b55dd-554a-48f5-9da8-f209fcb39ed9"
      },
      "outputs": [],
      "source": [
        "# La teva resposta aquí\n",
        "i=int(input(\"introduce un numero\"))\n",
        "lista=[]\n",
        "lista2=[]\n",
        "while True:\n",
        "\n",
        "    \n",
        "    if(i<0):\n",
        "\n",
        "        print(lista)\n",
        "        break\n",
        "\n",
        "    elif(i>=0):\n",
        "\n",
        "     lista.append(i)\n",
        "\n",
        "     i=int(input(\"introduce un numero\"))\n"
      ]
    },
    {
      "cell_type": "markdown",
      "id": "4653551d-df75-44e7-99ef-924177b77bad",
      "metadata": {
        "id": "4653551d-df75-44e7-99ef-924177b77bad"
      },
      "source": [
        "## Exercici 13\n",
        "S’ha decidit fer una recuperació d’un examen de programació d’ASIX que ha anat molt malament per diversos motius. Dissenya un programa que pregunti quina nota s’ha tret en el primer examen i quina nota es creu que es traurà en aquest examen de recuperació. Després es pregunta a l’usuari quin criteri creu que farà servir el professor per tenir la nota final del parcial basant-se en els següents criteris i es mostrarà la nota final.\n",
        "\n",
        "* El professor farà una bona mitja. La nota final serà el 20% de la nota del primer examen i el 80% de la nota d’aquest examen.\n",
        "* El professor farà una mitja normal. La nota final serà el 35% de la nota del primer examen i el 65% de la nota d’aquest examen.\n",
        "* El professor farà una mala mitja. La nota final serà el 50% de la nota del primer examen i el 50% de la nota d’aquest examen.\n"
      ]
    },
    {
      "cell_type": "code",
      "execution_count": null,
      "id": "f35e4add-8972-43f6-947e-22b55d6b81f3",
      "metadata": {
        "id": "f35e4add-8972-43f6-947e-22b55d6b81f3"
      },
      "outputs": [],
      "source": [
        "# La teva resposta aquí\n",
        "nota=int(input(\"que nota has sacado\"))\n",
        "\n",
        "recu=int(input(\"que nota crees que sacaras en la recu\"))\n",
        "\n",
        "criteri=input(\"que criterio va a utilizar 1 2 3\")\n",
        "aprobar=50\n",
        "final1=nota+recu\n",
        "if(criteri==\"1\" and final1>=aprobar):\n",
        "\n",
        "    nota=nota*20/100\n",
        "\n",
        "\n",
        "    recu=recu*80/100\n",
        "    final1=nota+recu\n",
        "    \n",
        "    print(f\"sacaras {final1} en la nota final basado en el criterio 20/80 \")\n",
        "\n",
        "\n",
        "elif(final1<aprobar):\n",
        "    \n",
        "    print(f\"suspenderas con un {final1}\")\n",
        "\n",
        "\n",
        "\n",
        "elif(criteri==\"2\" and final1>=aprobar):\n",
        "\n",
        "    nota=nota*35/100\n",
        "\n",
        "    recu=recu*65/100\n",
        "   \n",
        "    final1=nota+recu\n",
        "    \n",
        "    \n",
        "    \n",
        "    print(f\"sacaras un {final1} en la nota final basado en el criterio 35/65 \")\n",
        "\n",
        "\n",
        "elif( final1<aprobar):\n",
        "\n",
        "    print(f\"suspenderas con un {final1}\")\n",
        "\n",
        "elif(criteri==\"3\" and final1>=aprobar):\n",
        "    \n",
        "    \n",
        "     nota=nota*50/100\n",
        "\n",
        "     recu=recu*50/100\n",
        "   \n",
        "     final1=nota+recu\n",
        "     \n",
        "    \n",
        "     print(f\"sacaras un {final1} en la nota final basado en el criterio 50/50 \")\n",
        "\n",
        "elif(final1<aprobar):\n",
        "\n",
        "     print(f\"suspenderas con un{final1}\")\n"
      ]
    },
    {
      "cell_type": "markdown",
      "id": "11041821-4102-4e33-82f1-eefa48107cc0",
      "metadata": {
        "id": "11041821-4102-4e33-82f1-eefa48107cc0"
      },
      "source": [
        "## Exercici 14\n",
        "\n",
        "Modifica el programa anterior per a que la nota final s’obtingui de forma aleatòria tenin en compte la següent comanda rand = random.uniform(0,1). Aquesta comanda obté un nombre aleatori amb decimals entre 0 i 1. La nota del primer examen es multiplicarà per aquest factor i la d’aquest examen per la resta. S’ha de mostrar la nota final."
      ]
    },
    {
      "cell_type": "code",
      "execution_count": null,
      "id": "e5294d68-8c4e-49b9-a58f-a4cce7452626",
      "metadata": {
        "id": "e5294d68-8c4e-49b9-a58f-a4cce7452626"
      },
      "outputs": [],
      "source": [
        "# La teva resposta aquí"
      ]
    },
    {
      "cell_type": "markdown",
      "id": "526a93dd-5260-4d6a-9f7c-40658f2b6132",
      "metadata": {
        "id": "526a93dd-5260-4d6a-9f7c-40658f2b6132"
      },
      "source": [
        "## Exercici 15\n",
        "\n",
        "Donada la següent llista = [39,62,24,71,40,53,12,99,20,111], desenvolupa un programa que generi una llista amb els nombres divisibles entre 3 i una altra llista amb els que no ho son. Un cop estan distribuits, la llista original s’ha de substituir per un 0 en tots els seus elements. Un cop acabat, es mostren totes les llistes."
      ]
    },
    {
      "cell_type": "code",
      "execution_count": null,
      "id": "574fd70e-8236-417b-a79f-27ea1cca2d3a",
      "metadata": {
        "id": "574fd70e-8236-417b-a79f-27ea1cca2d3a"
      },
      "outputs": [],
      "source": [
        "# La teva resposta aquí\n",
        "llista=[39,62,24,71,40,53,12,99,20,111]\n",
        "llistadiv=[]\n",
        "llistano=[]\n",
        "\n",
        "for i in llista:\n",
        "     \n",
        "\n",
        "     if(i%3==0):\n",
        "\n",
        "        llistadiv.append(i)\n",
        "\n",
        "     elif(i%3!=0):\n",
        "\n",
        "        llistano.append(i)\n",
        "         \n",
        "        print(llistano)\n",
        "        print(llistadiv)\n"
      ]
    },
    {
      "cell_type": "code",
      "execution_count": null,
      "id": "0e660d40-4896-465f-abf7-41262f9747b6",
      "metadata": {
        "id": "0e660d40-4896-465f-abf7-41262f9747b6"
      },
      "outputs": [],
      "source": []
    }
  ],
  "metadata": {
    "kernelspec": {
      "display_name": "Python 3",
      "language": "python",
      "name": "python3"
    },
    "language_info": {
      "codemirror_mode": {
        "name": "ipython",
        "version": 3
      },
      "file_extension": ".py",
      "mimetype": "text/x-python",
      "name": "python",
      "nbconvert_exporter": "python",
      "pygments_lexer": "ipython3",
      "version": "3.10.6"
    },
    "colab": {
      "provenance": [],
      "collapsed_sections": []
    }
  },
  "nbformat": 4,
  "nbformat_minor": 5
}